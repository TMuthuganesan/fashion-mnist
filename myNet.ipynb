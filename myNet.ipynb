{
  "nbformat": 4,
  "nbformat_minor": 0,
  "metadata": {
    "colab": {
      "name": "myNet.ipynb",
      "version": "0.3.2",
      "provenance": []
    },
    "kernelspec": {
      "display_name": "Python 3",
      "language": "python",
      "name": "python3"
    }
  },
  "cells": [
    {
      "metadata": {
        "id": "y6785cxGkJYn",
        "colab_type": "code",
        "colab": {}
      },
      "cell_type": "code",
      "source": [
        "from utils.mnist_reader import load_mnist\n",
        "from keras.models import Sequential\n",
        "from keras.layers import Dense, Dropout, Activation, Flatten, Conv2D, MaxPooling2D\n",
        "import os\n",
        "import numpy as np\n",
        "\n",
        "DATADIR\t\t\t= './data/fashion'\n",
        "IPIMG_H\t\t\t= 28\n",
        "IPIMG_W\t\t\t= 28\n",
        "LBLCNT\t\t\t= 10"
      ],
      "execution_count": 0,
      "outputs": []
    },
    {
      "metadata": {
        "id": "mhYoSHbYkJYw",
        "colab_type": "code",
        "colab": {
          "base_uri": "https://localhost:8080/",
          "height": 129
        },
        "outputId": "7b788513-b3e0-49c4-b7d5-165015ee36c9"
      },
      "cell_type": "code",
      "source": [
        "def main():\n",
        "\t#Load data from dataset\n",
        "\tX_train, y_train\t= load_mnist(DATADIR,'train') #X_train=60000 images, each 28x28; y_train = 60000 labels\n",
        "\tX_test, y_test\t\t= load_mnist(DATADIR,'t10k')\t#X_train=10000 images, each 28x28; y_train = 10000 labels\n",
        "\tX_train\t\t\t\t\t\t= X_train.reshape(X_train.shape[0],IPIMG_H,IPIMG_W,1)\n",
        "\tX_test\t\t\t\t\t\t= X_test.reshape(X_test.shape[0],IPIMG_H,IPIMG_W,1)\n",
        "    \n",
        "\t#Construct a model\n",
        "\tmodel = Sequential()\n",
        "\tmodel.add(Conv2D(32, kernel_size=(3, 3), data_format='channels_last',input_shape=(IPIMG_H,IPIMG_W,1),activation='relu'))\n",
        "\tmodel.add(Conv2D(32,(3,3),activation='relu'))\n",
        "\tmodel.add(Conv2D(32,(3,3),activation='relu'))\n",
        "\tmodel.add(Conv2D(32,(3,3),activation='relu'))\n",
        "\tmodel.add(MaxPooling2D(pool_size=(2,2)))\n",
        "\tmodel.add(Flatten())\n",
        "\tmodel.add(Dense(128, activation='relu'))\n",
        "\tmodel.add(Dense(LBLCNT, activation='softmax'))\n",
        "\n",
        "\t#Configure the model\n",
        "\tmodel.compile(loss='sparse_categorical_crossentropy',\n",
        "             optimizer='adam',\n",
        "             metrics=['accuracy'])\n",
        "  model.summary()\n",
        "\n",
        "\tmodel.fit(\n",
        "        X_train, y_train,\n",
        "        epochs=5,\n",
        "        validation_data=(X_test, y_test))\n",
        "        #steps_per_epoch=10,\n",
        "        #validation_steps=100)\n",
        "        \n",
        "\tscore = model.evaluate(X_test, y_test, steps=50)\n",
        "\tprint('Test score:', score[0])\n",
        "\tprint('Test accuracy:', score[1])"
      ],
      "execution_count": 3,
      "outputs": [
        {
          "output_type": "error",
          "ename": "IndentationError",
          "evalue": "ignored",
          "traceback": [
            "\u001b[0;36m  File \u001b[0;32m\"<ipython-input-3-5de229195dda>\"\u001b[0;36m, line \u001b[0;32m23\u001b[0m\n\u001b[0;31m    model.summary()\u001b[0m\n\u001b[0m                   ^\u001b[0m\n\u001b[0;31mIndentationError\u001b[0m\u001b[0;31m:\u001b[0m unindent does not match any outer indentation level\n"
          ]
        }
      ]
    },
    {
      "metadata": {
        "id": "pqzuYYu4kJYy",
        "colab_type": "code",
        "colab": {
          "base_uri": "https://localhost:8080/",
          "height": 180
        },
        "outputId": "d3e30c2e-f4be-4171-a3b2-9f0c9f20814d"
      },
      "cell_type": "code",
      "source": [
        "if __name__ == '__main__':\n",
        "\tmain()"
      ],
      "execution_count": 1,
      "outputs": [
        {
          "output_type": "error",
          "ename": "NameError",
          "evalue": "ignored",
          "traceback": [
            "\u001b[0;31m---------------------------------------------------------------------------\u001b[0m",
            "\u001b[0;31mNameError\u001b[0m                                 Traceback (most recent call last)",
            "\u001b[0;32m<ipython-input-1-0f1ead28e8c2>\u001b[0m in \u001b[0;36m<module>\u001b[0;34m()\u001b[0m\n\u001b[1;32m      1\u001b[0m \u001b[0;32mif\u001b[0m \u001b[0m__name__\u001b[0m \u001b[0;34m==\u001b[0m \u001b[0;34m'__main__'\u001b[0m\u001b[0;34m:\u001b[0m\u001b[0;34m\u001b[0m\u001b[0m\n\u001b[0;32m----> 2\u001b[0;31m         \u001b[0mmain\u001b[0m\u001b[0;34m(\u001b[0m\u001b[0;34m)\u001b[0m\u001b[0;34m\u001b[0m\u001b[0m\n\u001b[0m",
            "\u001b[0;31mNameError\u001b[0m: name 'main' is not defined"
          ]
        }
      ]
    },
    {
      "metadata": {
        "id": "5y8yURygkJY0",
        "colab_type": "code",
        "colab": {}
      },
      "cell_type": "code",
      "source": [
        ""
      ],
      "execution_count": 0,
      "outputs": []
    }
  ]
}