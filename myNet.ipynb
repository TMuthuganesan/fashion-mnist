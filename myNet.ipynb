{
 "cells": [
  {
   "cell_type": "code",
   "execution_count": 2,
   "metadata": {},
   "outputs": [],
   "source": [
    "from utils.mnist_reader import load_mnist\n",
    "from keras.models import Sequential\n",
    "from keras.layers import Dense, Dropout, Activation, Flatten, Conv2D, MaxPooling2D\n",
    "import os\n",
    "import numpy as np\n",
    "\n",
    "DATADIR\t\t\t= './data/fashion'\n",
    "IPIMG_H\t\t\t= 28\n",
    "IPIMG_W\t\t\t= 28\n",
    "LBLCNT\t\t\t= 10"
   ]
  },
  {
   "cell_type": "code",
   "execution_count": 7,
   "metadata": {},
   "outputs": [],
   "source": [
    "def main():\n",
    "\t#Load data from dataset\n",
    "\tX_train, y_train\t= load_mnist(DATADIR,'train') #X_train=60000 images, each 28x28; y_train = 60000 labels\n",
    "\tX_test, y_test\t\t= load_mnist(DATADIR,'t10k')\t#X_train=10000 images, each 28x28; y_train = 10000 labels\n",
    "\tX_train\t\t\t\t\t\t= X_train.reshape(X_train.shape[0],IPIMG_H,IPIMG_W,1)\n",
    "\tX_test\t\t\t\t\t\t= X_test.reshape(X_test.shape[0],IPIMG_H,IPIMG_W,1)\n",
    "    \n",
    "\t#Construct a model\n",
    "\tmodel = Sequential()\n",
    "\tmodel.add(Conv2D(32, kernel_size=(3, 3), data_format='channels_last',input_shape=(IPIMG_H,IPIMG_W,1),activation='relu'))\n",
    "\tmodel.add(Conv2D(32,(3,3),activation='relu'))\n",
    "\tmodel.add(Conv2D(32,(3,3),activation='relu'))\n",
    "\tmodel.add(Conv2D(32,(3,3),activation='relu'))\n",
    "\tmodel.add(MaxPooling2D(pool_size=(2,2)))\n",
    "\tmodel.add(Flatten())\n",
    "\tmodel.add(Dense(128, activation='relu'))\n",
    "\tmodel.add(Dense(LBLCNT, activation='softmax'))\n",
    "\n",
    "\t#Configure the model\n",
    "\tmodel.compile(loss='sparse_categorical_crossentropy',\n",
    "             optimizer='adam',\n",
    "             metrics=['accuracy'])\n",
    "\tmodel.fit(\n",
    "        X_train, y_train,\n",
    "        epochs=5,\n",
    "        validation_data=(X_test, y_test))\n",
    "        #steps_per_epoch=10,\n",
    "        #validation_steps=100)\n",
    "        \n",
    "\tscore = model.evaluate(X_test, y_test, steps=50)\n",
    "\tprint('Test score:', score[0])\n",
    "\tprint('Test accuracy:', score[1])"
   ]
  },
  {
   "cell_type": "code",
   "execution_count": null,
   "metadata": {},
   "outputs": [],
   "source": [
    "if __name__ == '__main__':\n",
    "\tmain()"
   ]
  },
  {
   "cell_type": "code",
   "execution_count": null,
   "metadata": {},
   "outputs": [],
   "source": []
  }
 ],
 "metadata": {
  "kernelspec": {
   "display_name": "Python 3",
   "language": "python",
   "name": "python3"
  },
  "language_info": {
   "codemirror_mode": {
    "name": "ipython",
    "version": 3
   },
   "file_extension": ".py",
   "mimetype": "text/x-python",
   "name": "python",
   "nbconvert_exporter": "python",
   "pygments_lexer": "ipython3",
   "version": "3.6.2"
  }
 },
 "nbformat": 4,
 "nbformat_minor": 2
}
