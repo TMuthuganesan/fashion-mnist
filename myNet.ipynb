{
 "cells": [
  {
   "cell_type": "code",
   "execution_count": 0,
   "metadata": {
    "colab": {},
    "colab_type": "code",
    "id": "y6785cxGkJYn"
   },
   "outputs": [],
   "source": [
    "from utils.mnist_reader import load_mnist\n",
    "from keras.models import Sequential\n",
    "from keras.layers import Dense, Dropout, Activation, Flatten, Conv2D, MaxPooling2D\n",
    "import os\n",
    "import numpy as np\n",
    "\n",
    "DATADIR\t\t\t= './data/fashion'\n",
    "IPIMG_H\t\t\t= 28\n",
    "IPIMG_W\t\t\t= 28\n",
    "LBLCNT\t\t\t= 10"
   ]
  },
  {
   "cell_type": "code",
   "execution_count": null,
   "metadata": {
    "colab": {
     "base_uri": "https://localhost:8080/",
     "height": 129
    },
    "colab_type": "code",
    "id": "mhYoSHbYkJYw",
    "outputId": "7b788513-b3e0-49c4-b7d5-165015ee36c9"
   },
   "outputs": [],
   "source": [
    "def main():\n",
    "\t#Load data from dataset\n",
    "\tX_train, y_train\t= load_mnist(DATADIR,'train') #X_train=60000 images, each 28x28; y_train = 60000 labels\n",
    "\tX_test, y_test\t\t= load_mnist(DATADIR,'t10k')\t#X_train=10000 images, each 28x28; y_train = 10000 labels\n",
    "\tX_train\t\t\t\t\t\t= X_train.reshape(X_train.shape[0],IPIMG_H,IPIMG_W,1)\n",
    "\tX_test\t\t\t\t\t\t= X_test.reshape(X_test.shape[0],IPIMG_H,IPIMG_W,1)\n",
    "    \n",
    "\t#Construct a model\n",
    "\tmodel = Sequential()\n",
    "\tmodel.add(Conv2D(32, kernel_size=(3, 3), data_format='channels_last',input_shape=(IPIMG_H,IPIMG_W,1),activation='relu'))\n",
    "\tmodel.add(Conv2D(32,(3,3),activation='relu'))\n",
    "\tmodel.add(Conv2D(32,(3,3),activation='relu'))\n",
    "\tmodel.add(Conv2D(32,(3,3),activation='relu'))\n",
    "\tmodel.add(MaxPooling2D(pool_size=(2,2)))\n",
    "\tmodel.add(Flatten())\n",
    "\tmodel.add(Dense(128, activation='relu'))\n",
    "\tmodel.add(Dense(LBLCNT, activation='softmax'))\n",
    "\n",
    "\t#Configure the model\n",
    "\tmodel.compile(loss='sparse_categorical_crossentropy',\n",
    "             optimizer='adam',\n",
    "             metrics=['accuracy'])\n",
    "\tmodel.summary()\n",
    "\n",
    "\tmodel.fit(\n",
    "        X_train, y_train,\n",
    "        epochs=5,\n",
    "        validation_data=(X_test, y_test))\n",
    "        #steps_per_epoch=10,\n",
    "        #validation_steps=100)\n",
    "        \n",
    "\tscore = model.evaluate(X_test, y_test, steps=50)\n",
    "\tprint('Test score:', score[0])\n",
    "\tprint('Test accuracy:', score[1])"
   ]
  },
<<<<<<< HEAD
  {
   "cell_type": "code",
   "execution_count": null,
   "metadata": {
    "colab": {
     "base_uri": "https://localhost:8080/",
     "height": 180
    },
    "colab_type": "code",
    "id": "pqzuYYu4kJYy",
    "outputId": "d3e30c2e-f4be-4171-a3b2-9f0c9f20814d"
   },
   "outputs": [],
   "source": [
    "if __name__ == '__main__':\n",
    "\tmain()"
   ]
  }
 ],
 "metadata": {
  "colab": {
   "name": "myNet.ipynb",
   "provenance": [],
   "version": "0.3.2"
  },
  "kernelspec": {
   "display_name": "Python 3",
   "language": "python",
   "name": "python3"
  },
  "language_info": {
   "codemirror_mode": {
    "name": "ipython",
    "version": 3
   },
   "file_extension": ".py",
   "mimetype": "text/x-python",
   "name": "python",
   "nbconvert_exporter": "python",
   "pygments_lexer": "ipython3",
   "version": "3.6.2"
  }
 },
 "nbformat": 4,
 "nbformat_minor": 1
}
=======
  "cells": [
    {
      "metadata": {
        "id": "RUb8M_z7ya3k",
        "colab_type": "code",
        "colab": {
          "base_uri": "https://localhost:8080/",
          "height": 34
        },
        "outputId": "b51bb828-8bc0-417f-807b-abfe70f202f2"
      },
      "cell_type": "code",
      "source": [
        "#from utils.mnist_reader import load_mnist\n",
        "from keras.models import Sequential\n",
        "from keras.layers import Dense, Dropout, Activation, Flatten, Conv2D, MaxPooling2D\n",
        "import os\n",
        "import gzip\n",
        "import numpy as np"
      ],
      "execution_count": 2,
      "outputs": [
        {
          "output_type": "stream",
          "text": [
            "Using TensorFlow backend.\n"
          ],
          "name": "stderr"
        }
      ]
    },
    {
      "metadata": {
        "id": "P11PTPUj--mc",
        "colab_type": "code",
        "colab": {}
      },
      "cell_type": "code",
      "source": [
        "from google.colab import drive\n",
        "drive.mount('/content/gdrive')"
      ],
      "execution_count": 0,
      "outputs": []
    },
    {
      "metadata": {
        "id": "BlGfbAv1Bnqz",
        "colab_type": "code",
        "colab": {}
      },
      "cell_type": "code",
      "source": [
        "def load_mnist(path, kind='train'):\n",
        "  \"\"\"Load MNIST data from `path`\"\"\"\n",
        "  labels_path = os.path.join(path,\n",
        "                               '%s-labels-idx1-ubyte.gz'\n",
        "                               % kind)\n",
        "  images_path = os.path.join(path,\n",
        "                               '%s-images-idx3-ubyte.gz'\n",
        "                               % kind)\n",
        "\n",
        "  with gzip.open(labels_path, 'rb') as lbpath:\n",
        "    labels = np.frombuffer(lbpath.read(), dtype=np.uint8,\n",
        "                               offset=8)\n",
        "  with gzip.open(images_path, 'rb') as imgpath:\n",
        "    images = np.frombuffer(imgpath.read(), dtype=np.uint8,\n",
        "                               offset=16).reshape(len(labels), 784)\n",
        "\n",
        "  return images, labels"
      ],
      "execution_count": 0,
      "outputs": []
    },
    {
      "metadata": {
        "id": "XcS8p_PM_Enx",
        "colab_type": "code",
        "colab": {}
      },
      "cell_type": "code",
      "source": [
        "DATADIR\t\t\t= '/content/gdrive/My Drive/datasets/fashion'\n",
        "IPIMG_H\t\t\t= 28\n",
        "IPIMG_W\t\t\t= 28\n",
        "LBLCNT\t\t\t= 10"
      ],
      "execution_count": 0,
      "outputs": []
    },
    {
      "metadata": {
        "id": "LpCrScB7ya3w",
        "colab_type": "code",
        "colab": {}
      },
      "cell_type": "code",
      "source": [
        "def main():\n",
        "\t#Load data from dataset\n",
        "\tX_train, y_train\t= load_mnist(DATADIR,'train') #X_train=60000 images, each 28x28; y_train = 60000 labels\n",
        "\tX_test, y_test\t\t= load_mnist(DATADIR,'t10k')\t#X_train=10000 images, each 28x28; y_train = 10000 labels\n",
        "\tX_train\t\t\t\t\t\t= X_train.reshape(X_train.shape[0],IPIMG_H,IPIMG_W,1)\n",
        "\tX_test\t\t\t\t\t\t= X_test.reshape(X_test.shape[0],IPIMG_H,IPIMG_W,1)\n",
        "    \n",
        "\t#Construct a model\n",
        "\tmodel = Sequential()\n",
        "\tmodel.add(Conv2D(32, kernel_size=(3, 3), data_format='channels_last',input_shape=(IPIMG_H,IPIMG_W,1),activation='relu'))\n",
        "\tmodel.add(Conv2D(32,(3,3),activation='relu'))\n",
        "\tmodel.add(Conv2D(32,(3,3),activation='relu'))\n",
        "\tmodel.add(Conv2D(32,(3,3),activation='relu'))\n",
        "\tmodel.add(MaxPooling2D(pool_size=(2,2)))\n",
        "\tmodel.add(Flatten())\n",
        "\tmodel.add(Dense(128, activation='relu'))\n",
        "\tmodel.add(Dense(LBLCNT, activation='softmax'))\n",
        "\n",
        "\t#Configure the model\n",
        "\tmodel.compile(loss='sparse_categorical_crossentropy',\n",
        "             optimizer='adam',\n",
        "             metrics=['accuracy'])\n",
        "\tmodel.fit(\n",
        "        X_train, y_train,\n",
        "        epochs=5,\n",
        "        validation_data=(X_test, y_test))\n",
        "        #steps_per_epoch=10,\n",
        "        #validation_steps=100)\n",
        "        \n",
        "\tscore = model.evaluate(X_test, y_test, steps=50)\n",
        "\tprint('Test score:', score[0])\n",
        "\tprint('Test accuracy:', score[1])"
      ],
      "execution_count": 0,
      "outputs": []
    }
  ]
}
>>>>>>> parent of d5306b6... Created using Colaboratory
